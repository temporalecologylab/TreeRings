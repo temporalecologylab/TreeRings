{
 "cells": [
  {
   "cell_type": "code",
   "execution_count": 1,
   "metadata": {},
   "outputs": [
    {
     "name": "stderr",
     "output_type": "stream",
     "text": [
      "c:\\Users\\chloe\\AppData\\Local\\Programs\\Python\\Python310\\lib\\site-packages\\skimage\\util\\dtype.py:27: DeprecationWarning: `np.bool8` is a deprecated alias for `np.bool_`.  (Deprecated NumPy 1.24)\n",
      "  np.bool8: (False, True),\n"
     ]
    },
    {
     "data": {
      "text/plain": [
       "True"
      ]
     },
     "execution_count": 1,
     "metadata": {},
     "output_type": "execute_result"
    }
   ],
   "source": [
    "from stitch2d import StructuredMosaic, create_mosaic\n",
    "import os\n",
    "import matplotlib.pyplot as plt\n",
    "\n",
    "tile_path = \"C:\\\\Users\\\\chloe\\\\wolkovich_s24\\\\TreeRings\\\\code\\\\focus_testng\\\\jul12_almostfullcookie\"\n",
    "os.path.exists(tile_path)"
   ]
  },
  {
   "cell_type": "code",
   "execution_count": 4,
   "metadata": {},
   "outputs": [],
   "source": [
    "mosaic = create_mosaic(\n",
    "    tile_path,\n",
    "    dim=26,                  # number of tiles in primary axis\n",
    "    origin=\"upper left\",     # position of first tile\n",
    "    direction=\"horizontal\",  # primary axis (i.e., the direction to traverse first)\n",
    "    pattern=\"raster\"          # snake or raster\n",
    "  )"
   ]
  },
  {
   "cell_type": "code",
   "execution_count": 5,
   "metadata": {},
   "outputs": [],
   "source": [
    "\n",
    "mosaic.downsample(0.6)\n",
    "mosaic.align()\n",
    "mosaic.reset_tiles()\n",
    "mosaic.save_params()\n",
    "\n",
    "mosaic.smooth_seams()\n",
    "mosaic.save(\"mosaic_dc.tiff\")"
   ]
  }
 ],
 "metadata": {
  "kernelspec": {
   "display_name": "Python 3",
   "language": "python",
   "name": "python3"
  },
  "language_info": {
   "codemirror_mode": {
    "name": "ipython",
    "version": 3
   },
   "file_extension": ".py",
   "mimetype": "text/x-python",
   "name": "python",
   "nbconvert_exporter": "python",
   "pygments_lexer": "ipython3",
   "version": "3.10.1"
  }
 },
 "nbformat": 4,
 "nbformat_minor": 2
}
