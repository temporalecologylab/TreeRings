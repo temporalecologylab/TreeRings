{
 "cells": [
  {
   "cell_type": "code",
   "execution_count": 2,
   "metadata": {},
   "outputs": [],
   "source": [
    "from ashlar import filepattern, reg \n",
    "import os"
   ]
  },
  {
   "cell_type": "code",
   "execution_count": 6,
   "metadata": {},
   "outputs": [],
   "source": [
    "path = \"C:\\\\Users\\\\chloe\\\\wolkovich_s24\\\\TreeRings\\\\code\\\\image_stitch_testing\\\\ashlar\\\\20per_zoomout_correctdims\\\\focused_images\"\n",
    "pattern = \"frame_{row:01}_{col:01}_1.jpg\" \n",
    "overlap = 0.20\n",
    "pixel_size = 1.55"
   ]
  },
  {
   "cell_type": "code",
   "execution_count": 35,
   "metadata": {},
   "outputs": [],
   "source": [
    "\n",
    "        # self.metadata = FilePatternMetadata(path, pattern, overlap, pixel_size) #dont need bc reader defines its own metadata object?\n",
    "reader = filepattern.FilePatternReader(path, pattern, overlap, pixel_size) #in ashlar/filepattern.py pix_sz =1??\n",
    "edge_aligner = reg.EdgeAligner(reader,verbose=True)\n",
    "layer_aligner = reg.LayerAligner(reader, edge_aligner) #idk what reference_aligner is?? --- update - its edge aligner in ashlar.py?\n",
    "mosaics = []"
   ]
  },
  {
   "cell_type": "code",
   "execution_count": 36,
   "metadata": {},
   "outputs": [
    {
     "name": "stdout",
     "output_type": "stream",
     "text": [
      "    assembling thumbnail 15/15\n"
     ]
    },
    {
     "name": "stderr",
     "output_type": "stream",
     "text": [
      "C:\\Users\\chloe\\anaconda3\\envs\\ashlar\\lib\\site-packages\\ashlar\\reg.py:1367: DataWarning: Some neighboring tiles have zero overlap.\n",
      "  warnings.warn(message, DataWarning)\n"
     ]
    },
    {
     "name": "stdout",
     "output_type": "stream",
     "text": [
      "    quantifying alignment error 1000/1000\n",
      "    aligning edge 31/31\n"
     ]
    },
    {
     "name": "stderr",
     "output_type": "stream",
     "text": [
      "C:\\Users\\chloe\\anaconda3\\envs\\ashlar\\lib\\site-packages\\ashlar\\reg.py:1367: DataWarning: Could not align enough edges, proceeding anyway with original stage positions.\n",
      "  warnings.warn(message, DataWarning)\n"
     ]
    }
   ],
   "source": [
    "edge_aligner.run()"
   ]
  },
  {
   "cell_type": "code",
   "execution_count": 39,
   "metadata": {},
   "outputs": [],
   "source": [
    "mosaics.append(reg.Mosaic(edge_aligner, edge_aligner.mosaic_shape, verbose = True))"
   ]
  },
  {
   "cell_type": "code",
   "execution_count": null,
   "metadata": {},
   "outputs": [],
   "source": [
    "for cycle, filepath in enumerate(filepaths[1:], 1):\n",
    "        if not quiet:\n",
    "            print('Cycle %d:' % cycle)\n",
    "            print('    reading %s' % filepath)\n",
    "        reader = build_reader(filepath, barrel_correction, plate_well=plate_well)\n",
    "        process_axis_flip(reader, flip_x, flip_y)\n",
    "        layer_aligner = reg.LayerAligner(reader, edge_aligner, **aligner_args)\n",
    "        layer_aligner.run()\n",
    "        mosaic_args_final = mosaic_args.copy()\n",
    "        if ffp_paths:\n",
    "            mosaic_args_final['ffp_path'] = ffp_paths[cycle]\n",
    "        if dfp_paths:\n",
    "            mosaic_args_final['dfp_path'] = dfp_paths[cycle]\n",
    "        mosaics.append(reg.Mosaic(layer_aligner, mshape, **mosaic_args_final))"
   ]
  },
  {
   "cell_type": "code",
   "execution_count": 16,
   "metadata": {},
   "outputs": [
    {
     "name": "stdout",
     "output_type": "stream",
     "text": [
      "    assembling thumbnail 15/15\n",
      "    estimated cycle offset [y x] = [0. 0.]\n"
     ]
    }
   ],
   "source": [
    "layer_aligner.run()\n",
    "mosaics.append(reg.Mosaic(layer_aligner, edge_aligner.mosaic_shape, verbose = True))"
   ]
  },
  {
   "cell_type": "code",
   "execution_count": 40,
   "metadata": {},
   "outputs": [
    {
     "name": "stdout",
     "output_type": "stream",
     "text": [
      "Cycle 0:\n",
      "    Channel 0:\n",
      "        merging tile 15/15\n",
      "    Channel 1:\n",
      "        merging tile 15/15\n",
      "    Channel 2:\n",
      "        merging tile 15/15\n",
      "Generating pyramid\n",
      "    Level 1 (4992 x 4536)\n",
      "        processing channel 3/3\n",
      "    Level 2 (2496 x 2268)\n",
      "        processing channel 3/3\n",
      "    Level 3 (1248 x 1134)\n",
      "        processing channel 3/3\n",
      "    Level 4 (624 x 567)\n",
      "        processing channel 3/3\n"
     ]
    }
   ],
   "source": [
    "writer_class = reg.PyramidWriter\n",
    "writer = writer_class(mosaics, \"out.ome.tiff\".format(cycle,channel), verbose=True)\n",
    "writer.run()"
   ]
  },
  {
   "cell_type": "code",
   "execution_count": null,
   "metadata": {},
   "outputs": [],
   "source": []
  }
 ],
 "metadata": {
  "kernelspec": {
   "display_name": "Python 3 (ipykernel)",
   "language": "python",
   "name": "python3"
  },
  "language_info": {
   "codemirror_mode": {
    "name": "ipython",
    "version": 3
   },
   "file_extension": ".py",
   "mimetype": "text/x-python",
   "name": "python",
   "nbconvert_exporter": "python",
   "pygments_lexer": "ipython3",
   "version": "3.10.14"
  }
 },
 "nbformat": 4,
 "nbformat_minor": 4
}
