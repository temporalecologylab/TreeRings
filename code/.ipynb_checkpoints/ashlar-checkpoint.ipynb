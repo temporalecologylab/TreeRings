{
 "cells": [
  {
   "cell_type": "code",
   "execution_count": 2,
   "metadata": {},
   "outputs": [],
   "source": [
    "from ashlar import filepattern, reg \n",
    "import os"
   ]
  },
  {
   "cell_type": "code",
   "execution_count": 6,
   "metadata": {},
   "outputs": [],
   "source": [
    "path = \"C:\\\\Users\\\\chloe\\\\wolkovich_s24\\\\TreeRings\\\\code\\\\image_stitch_testing\\\\ashlar\\\\20per_zoomout_correctdims\\\\focused_images\"\n",
    "pattern = \"frame_{row:01}_{col:01}_1.jpg\" \n",
    "overlap = 0.20\n",
    "pixel_size = 1.55"
   ]
  },
  {
   "cell_type": "code",
   "execution_count": 8,
   "metadata": {},
   "outputs": [],
   "source": [
    "\n",
    "        # self.metadata = FilePatternMetadata(path, pattern, overlap, pixel_size) #dont need bc reader defines its own metadata object?\n",
    "reader = filepattern.FilePatternReader(path, pattern, overlap, pixel_size) #in ashlar/filepattern.py pix_sz =1??\n",
    "edge_aligner = reg.EdgeAligner(reader,verbose=True)\n",
    "layer_aligner = reg.LayerAligner(reader, edge_aligner) #idk what reference_aligner is?? --- update - its edge aligner in ashlar.py?\n",
    "mosaics = []"
   ]
  },
  {
   "cell_type": "code",
   "execution_count": 10,
   "metadata": {},
   "outputs": [
    {
     "name": "stdout",
     "output_type": "stream",
     "text": [
      "    assembling thumbnail 15/15\n"
     ]
    },
    {
     "name": "stderr",
     "output_type": "stream",
     "text": [
      "C:\\Users\\chloe\\anaconda3\\envs\\ashlar\\lib\\site-packages\\ashlar\\reg.py:1367: DataWarning: Some neighboring tiles have zero overlap.\n",
      "  warnings.warn(message, DataWarning)\n"
     ]
    },
    {
     "name": "stdout",
     "output_type": "stream",
     "text": [
      "    quantifying alignment error 1000/1000\n",
      "    aligning edge 31/31\n"
     ]
    },
    {
     "name": "stderr",
     "output_type": "stream",
     "text": [
      "C:\\Users\\chloe\\anaconda3\\envs\\ashlar\\lib\\site-packages\\ashlar\\reg.py:1367: DataWarning: Could not align enough edges, proceeding anyway with original stage positions.\n",
      "  warnings.warn(message, DataWarning)\n"
     ]
    }
   ],
   "source": [
    "edge_aligner.run()"
   ]
  },
  {
   "cell_type": "code",
   "execution_count": 12,
   "metadata": {},
   "outputs": [],
   "source": [
    "mosaics.append(reg.Mosaic(edge_aligner, edge_aligner.mosaic_shape, verbose = True))"
   ]
  },
  {
   "cell_type": "code",
   "execution_count": null,
   "metadata": {},
   "outputs": [],
   "source": [
    "for cycle, filepath in enumerate(filepaths[1:], 1):\n",
    "        if not quiet:\n",
    "            print('Cycle %d:' % cycle)\n",
    "            print('    reading %s' % filepath)\n",
    "        reader = build_reader(filepath, barrel_correction, plate_well=plate_well)\n",
    "        process_axis_flip(reader, flip_x, flip_y)\n",
    "        layer_aligner = reg.LayerAligner(reader, edge_aligner, **aligner_args)\n",
    "        layer_aligner.run()\n",
    "        mosaic_args_final = mosaic_args.copy()\n",
    "        if ffp_paths:\n",
    "            mosaic_args_final['ffp_path'] = ffp_paths[cycle]\n",
    "        if dfp_paths:\n",
    "            mosaic_args_final['dfp_path'] = dfp_paths[cycle]\n",
    "        mosaics.append(reg.Mosaic(layer_aligner, mshape, **mosaic_args_final))"
   ]
  },
  {
   "cell_type": "code",
   "execution_count": 16,
   "metadata": {},
   "outputs": [
    {
     "name": "stdout",
     "output_type": "stream",
     "text": [
      "    assembling thumbnail 15/15\n",
      "    estimated cycle offset [y x] = [0. 0.]\n"
     ]
    }
   ],
   "source": [
    "layer_aligner.run()\n",
    "mosaics.append(reg.Mosaic(layer_aligner, edge_aligner.mosaic_shape, verbose = True))"
   ]
  },
  {
   "cell_type": "code",
   "execution_count": 22,
   "metadata": {},
   "outputs": [
    {
     "name": "stdout",
     "output_type": "stream",
     "text": [
      "Cycle 0:\n",
      "    Channel 0:\n",
      "        merging tile 15/15\n",
      "    Channel 1:\n",
      "        merging tile 1/15"
     ]
    },
    {
     "name": "stderr",
     "output_type": "stream",
     "text": [
      "C:\\Users\\chloe\\anaconda3\\envs\\ashlar\\lib\\site-packages\\ashlar\\reg.py:1367: DataWarning: Output path collision -- overwriting out.ome.tiff (please include both {cycle} and {channel} placeholders in the output path, or use the .ome.tif extension to write all channels to one file)\n",
      "  warnings.warn(message, DataWarning)\n"
     ]
    },
    {
     "name": "stdout",
     "output_type": "stream",
     "text": [
      "        merging tile 15/15\n",
      "    Channel 2:\n",
      "        merging tile 1/15"
     ]
    },
    {
     "name": "stderr",
     "output_type": "stream",
     "text": [
      "C:\\Users\\chloe\\anaconda3\\envs\\ashlar\\lib\\site-packages\\ashlar\\reg.py:1367: DataWarning: Output path collision -- overwriting out.ome.tiff (please include both {cycle} and {channel} placeholders in the output path, or use the .ome.tif extension to write all channels to one file)\n",
      "  warnings.warn(message, DataWarning)\n"
     ]
    },
    {
     "name": "stdout",
     "output_type": "stream",
     "text": [
      "        merging tile 15/15\n",
      "Cycle 1:\n",
      "    Channel 0:\n",
      "        merging tile 1/15"
     ]
    },
    {
     "name": "stderr",
     "output_type": "stream",
     "text": [
      "C:\\Users\\chloe\\anaconda3\\envs\\ashlar\\lib\\site-packages\\ashlar\\reg.py:1367: DataWarning: Output path collision -- overwriting out.ome.tiff (please include both {cycle} and {channel} placeholders in the output path, or use the .ome.tif extension to write all channels to one file)\n",
      "  warnings.warn(message, DataWarning)\n"
     ]
    },
    {
     "name": "stdout",
     "output_type": "stream",
     "text": [
      "        merging tile 15/15\n",
      "    Channel 1:\n",
      "        merging tile 1/15"
     ]
    },
    {
     "name": "stderr",
     "output_type": "stream",
     "text": [
      "C:\\Users\\chloe\\anaconda3\\envs\\ashlar\\lib\\site-packages\\ashlar\\reg.py:1367: DataWarning: Output path collision -- overwriting out.ome.tiff (please include both {cycle} and {channel} placeholders in the output path, or use the .ome.tif extension to write all channels to one file)\n",
      "  warnings.warn(message, DataWarning)\n"
     ]
    },
    {
     "name": "stdout",
     "output_type": "stream",
     "text": [
      "        merging tile 15/15\n",
      "    Channel 2:\n",
      "        merging tile 1/15"
     ]
    },
    {
     "name": "stderr",
     "output_type": "stream",
     "text": [
      "C:\\Users\\chloe\\anaconda3\\envs\\ashlar\\lib\\site-packages\\ashlar\\reg.py:1367: DataWarning: Output path collision -- overwriting out.ome.tiff (please include both {cycle} and {channel} placeholders in the output path, or use the .ome.tif extension to write all channels to one file)\n",
      "  warnings.warn(message, DataWarning)\n"
     ]
    },
    {
     "name": "stdout",
     "output_type": "stream",
     "text": [
      "        merging tile 15/15\n"
     ]
    }
   ],
   "source": [
    "writer_class = reg.TiffListWriter\n",
    "writer = writer_class(mosaics, \"out.ome.tiff\", verbose=True)\n",
    "writer.run()"
   ]
  },
  {
   "cell_type": "code",
   "execution_count": 23,
   "metadata": {},
   "outputs": [
    {
     "name": "stdout",
     "output_type": "stream",
     "text": [
      "Cycle 0:\n",
      "    Channel 0:\n",
      "        merging tile 15/15\n",
      "    Channel 1:\n",
      "        merging tile 1/15"
     ]
    },
    {
     "name": "stderr",
     "output_type": "stream",
     "text": [
      "C:\\Users\\chloe\\anaconda3\\envs\\ashlar\\lib\\site-packages\\ashlar\\reg.py:1367: DataWarning: Output path collision -- overwriting out.ome0.tiff (please include both {cycle} and {channel} placeholders in the output path, or use the .ome.tif extension to write all channels to one file)\n",
      "  warnings.warn(message, DataWarning)\n"
     ]
    },
    {
     "name": "stdout",
     "output_type": "stream",
     "text": [
      "        merging tile 9/15"
     ]
    },
    {
     "ename": "KeyboardInterrupt",
     "evalue": "",
     "output_type": "error",
     "traceback": [
      "\u001b[1;31m---------------------------------------------------------------------------\u001b[0m",
      "\u001b[1;31mKeyboardInterrupt\u001b[0m                         Traceback (most recent call last)",
      "Cell \u001b[1;32mIn[23], line 3\u001b[0m\n\u001b[0;32m      1\u001b[0m \u001b[38;5;28;01mfor\u001b[39;00m i \u001b[38;5;129;01min\u001b[39;00m \u001b[38;5;28mrange\u001b[39m(\u001b[38;5;241m3\u001b[39m):\n\u001b[0;32m      2\u001b[0m     writer \u001b[38;5;241m=\u001b[39m writer_class(mosaics, \u001b[38;5;124mf\u001b[39m\u001b[38;5;124m\"\u001b[39m\u001b[38;5;124mout.ome\u001b[39m\u001b[38;5;132;01m{\u001b[39;00mi\u001b[38;5;132;01m}\u001b[39;00m\u001b[38;5;124m.tiff\u001b[39m\u001b[38;5;124m\"\u001b[39m, verbose\u001b[38;5;241m=\u001b[39m\u001b[38;5;28;01mTrue\u001b[39;00m)\n\u001b[1;32m----> 3\u001b[0m     \u001b[43mwriter\u001b[49m\u001b[38;5;241;43m.\u001b[39;49m\u001b[43mrun\u001b[49m\u001b[43m(\u001b[49m\u001b[43m)\u001b[49m\n",
      "File \u001b[1;32m~\\anaconda3\\envs\\ashlar\\lib\\site-packages\\ashlar\\reg.py:1343\u001b[0m, in \u001b[0;36mTiffListWriter.run\u001b[1;34m(self)\u001b[0m\n\u001b[0;32m   1336\u001b[0m     warn_data(\n\u001b[0;32m   1337\u001b[0m         \u001b[38;5;124mf\u001b[39m\u001b[38;5;124m\"\u001b[39m\u001b[38;5;124mOutput path collision -- overwriting \u001b[39m\u001b[38;5;132;01m{\u001b[39;00mpath\u001b[38;5;132;01m}\u001b[39;00m\u001b[38;5;124m (please\u001b[39m\u001b[38;5;124m\"\u001b[39m\n\u001b[0;32m   1338\u001b[0m         \u001b[38;5;124m\"\u001b[39m\u001b[38;5;124m include both \u001b[39m\u001b[38;5;132;01m{cycle}\u001b[39;00m\u001b[38;5;124m and \u001b[39m\u001b[38;5;132;01m{channel}\u001b[39;00m\u001b[38;5;124m placeholders in\u001b[39m\u001b[38;5;124m\"\u001b[39m\n\u001b[0;32m   1339\u001b[0m         \u001b[38;5;124m\"\u001b[39m\u001b[38;5;124m the output path, or use the .ome.tif extension to\u001b[39m\u001b[38;5;124m\"\u001b[39m\n\u001b[0;32m   1340\u001b[0m         \u001b[38;5;124m\"\u001b[39m\u001b[38;5;124m write all channels to one file)\u001b[39m\u001b[38;5;124m\"\u001b[39m\n\u001b[0;32m   1341\u001b[0m     )\n\u001b[0;32m   1342\u001b[0m used_paths\u001b[38;5;241m.\u001b[39madd(path)\n\u001b[1;32m-> 1343\u001b[0m img \u001b[38;5;241m=\u001b[39m \u001b[43mmosaic\u001b[49m\u001b[38;5;241;43m.\u001b[39;49m\u001b[43massemble_channel\u001b[49m\u001b[43m(\u001b[49m\u001b[43mchannel\u001b[49m\u001b[43m)\u001b[49m\n\u001b[0;32m   1344\u001b[0m \u001b[38;5;28;01mwith\u001b[39;00m tifffile\u001b[38;5;241m.\u001b[39mTiffWriter(path, bigtiff\u001b[38;5;241m=\u001b[39m\u001b[38;5;28;01mTrue\u001b[39;00m) \u001b[38;5;28;01mas\u001b[39;00m tiff:\n\u001b[0;32m   1345\u001b[0m     tiff\u001b[38;5;241m.\u001b[39mwrite(\n\u001b[0;32m   1346\u001b[0m         data\u001b[38;5;241m=\u001b[39mimg,\n\u001b[0;32m   1347\u001b[0m         software\u001b[38;5;241m=\u001b[39msoftware\u001b[38;5;241m.\u001b[39mencode(\u001b[38;5;124m\"\u001b[39m\u001b[38;5;124mutf-8\u001b[39m\u001b[38;5;124m\"\u001b[39m),\n\u001b[1;32m   (...)\u001b[0m\n\u001b[0;32m   1350\u001b[0m         photometric\u001b[38;5;241m=\u001b[39m\u001b[38;5;124m\"\u001b[39m\u001b[38;5;124mminisblack\u001b[39m\u001b[38;5;124m\"\u001b[39m,\n\u001b[0;32m   1351\u001b[0m     )\n",
      "File \u001b[1;32m~\\anaconda3\\envs\\ashlar\\lib\\site-packages\\ashlar\\reg.py:1138\u001b[0m, in \u001b[0;36mMosaic.assemble_channel\u001b[1;34m(self, channel, out)\u001b[0m\n\u001b[0;32m   1136\u001b[0m     img \u001b[38;5;241m=\u001b[39m \u001b[38;5;28mself\u001b[39m\u001b[38;5;241m.\u001b[39maligner\u001b[38;5;241m.\u001b[39mreader\u001b[38;5;241m.\u001b[39mread(c\u001b[38;5;241m=\u001b[39mchannel, series\u001b[38;5;241m=\u001b[39msi)\n\u001b[0;32m   1137\u001b[0m     img \u001b[38;5;241m=\u001b[39m \u001b[38;5;28mself\u001b[39m\u001b[38;5;241m.\u001b[39mcorrect_illumination(img, channel)\n\u001b[1;32m-> 1138\u001b[0m     \u001b[43mutils\u001b[49m\u001b[38;5;241;43m.\u001b[39;49m\u001b[43mpaste\u001b[49m\u001b[43m(\u001b[49m\u001b[43mout\u001b[49m\u001b[43m,\u001b[49m\u001b[43m \u001b[49m\u001b[43mimg\u001b[49m\u001b[43m,\u001b[49m\u001b[43m \u001b[49m\u001b[43mposition\u001b[49m\u001b[43m,\u001b[49m\u001b[43m \u001b[49m\u001b[43mfunc\u001b[49m\u001b[38;5;241;43m=\u001b[39;49m\u001b[43mutils\u001b[49m\u001b[38;5;241;43m.\u001b[39;49m\u001b[43mpastefunc_blend\u001b[49m\u001b[43m)\u001b[49m\n\u001b[0;32m   1139\u001b[0m \u001b[38;5;66;03m# Memory-conserving axis flips.\u001b[39;00m\n\u001b[0;32m   1140\u001b[0m \u001b[38;5;28;01mif\u001b[39;00m \u001b[38;5;28mself\u001b[39m\u001b[38;5;241m.\u001b[39mflip_mosaic_x:\n",
      "File \u001b[1;32m~\\anaconda3\\envs\\ashlar\\lib\\site-packages\\ashlar\\utils.py:192\u001b[0m, in \u001b[0;36mpaste\u001b[1;34m(target, img, pos, func)\u001b[0m\n\u001b[0;32m    190\u001b[0m     func(target_slice, img, out\u001b[38;5;241m=\u001b[39mtarget_slice)\n\u001b[0;32m    191\u001b[0m \u001b[38;5;28;01melse\u001b[39;00m:\n\u001b[1;32m--> 192\u001b[0m     target_slice[:] \u001b[38;5;241m=\u001b[39m \u001b[43mfunc\u001b[49m\u001b[43m(\u001b[49m\u001b[43mtarget_slice\u001b[49m\u001b[43m,\u001b[49m\u001b[43m \u001b[49m\u001b[43mimg\u001b[49m\u001b[43m)\u001b[49m\n",
      "File \u001b[1;32m~\\anaconda3\\envs\\ashlar\\lib\\site-packages\\ashlar\\utils.py:201\u001b[0m, in \u001b[0;36mpastefunc_blend\u001b[1;34m(target, img)\u001b[0m\n\u001b[0;32m    199\u001b[0m hole_threshold \u001b[38;5;241m=\u001b[39m np\u001b[38;5;241m.\u001b[39mmean(target\u001b[38;5;241m.\u001b[39mshape)\n\u001b[0;32m    200\u001b[0m mask \u001b[38;5;241m=\u001b[39m skimage\u001b[38;5;241m.\u001b[39mmorphology\u001b[38;5;241m.\u001b[39mremove_small_holes(target \u001b[38;5;241m!=\u001b[39m \u001b[38;5;241m0\u001b[39m, hole_threshold)\n\u001b[1;32m--> 201\u001b[0m dist \u001b[38;5;241m=\u001b[39m \u001b[43mscipy\u001b[49m\u001b[38;5;241;43m.\u001b[39;49m\u001b[43mndimage\u001b[49m\u001b[38;5;241;43m.\u001b[39;49m\u001b[43mdistance_transform_cdt\u001b[49m\u001b[43m(\u001b[49m\u001b[43mmask\u001b[49m\u001b[43m)\u001b[49m\n\u001b[0;32m    202\u001b[0m dmax \u001b[38;5;241m=\u001b[39m dist\u001b[38;5;241m.\u001b[39mmax()\n\u001b[0;32m    203\u001b[0m \u001b[38;5;28;01mif\u001b[39;00m dmax \u001b[38;5;241m==\u001b[39m \u001b[38;5;241m0\u001b[39m:\n",
      "File \u001b[1;32m~\\anaconda3\\envs\\ashlar\\lib\\site-packages\\scipy\\ndimage\\_morphology.py:2301\u001b[0m, in \u001b[0;36mdistance_transform_cdt\u001b[1;34m(input, metric, return_distances, return_indices, distances, indices)\u001b[0m\n\u001b[0;32m   2298\u001b[0m \u001b[38;5;28;01melse\u001b[39;00m:\n\u001b[0;32m   2299\u001b[0m     ft \u001b[38;5;241m=\u001b[39m \u001b[38;5;28;01mNone\u001b[39;00m\n\u001b[1;32m-> 2301\u001b[0m \u001b[43m_nd_image\u001b[49m\u001b[38;5;241;43m.\u001b[39;49m\u001b[43mdistance_transform_op\u001b[49m\u001b[43m(\u001b[49m\u001b[43mmetric\u001b[49m\u001b[43m,\u001b[49m\u001b[43m \u001b[49m\u001b[43mdt\u001b[49m\u001b[43m,\u001b[49m\u001b[43m \u001b[49m\u001b[43mft\u001b[49m\u001b[43m)\u001b[49m\n\u001b[0;32m   2302\u001b[0m dt \u001b[38;5;241m=\u001b[39m dt[\u001b[38;5;28mtuple\u001b[39m([\u001b[38;5;28mslice\u001b[39m(\u001b[38;5;28;01mNone\u001b[39;00m, \u001b[38;5;28;01mNone\u001b[39;00m, \u001b[38;5;241m-\u001b[39m\u001b[38;5;241m1\u001b[39m)] \u001b[38;5;241m*\u001b[39m rank)]\n\u001b[0;32m   2303\u001b[0m \u001b[38;5;28;01mif\u001b[39;00m return_indices:\n",
      "\u001b[1;31mKeyboardInterrupt\u001b[0m: "
     ]
    }
   ],
   "source": [
    "for i in range(3):\n",
    "    writer = writer_class(mosaics, f\"out{i}.ome.tiff\", verbose=True)\n",
    "    writer.run()\n",
    "    "
   ]
  },
  {
   "cell_type": "code",
   "execution_count": null,
   "metadata": {},
   "outputs": [],
   "source": []
  }
 ],
 "metadata": {
  "kernelspec": {
   "display_name": "Python 3 (ipykernel)",
   "language": "python",
   "name": "python3"
  },
  "language_info": {
   "codemirror_mode": {
    "name": "ipython",
    "version": 3
   },
   "file_extension": ".py",
   "mimetype": "text/x-python",
   "name": "python",
   "nbconvert_exporter": "python",
   "pygments_lexer": "ipython3",
   "version": "3.10.14"
  }
 },
 "nbformat": 4,
 "nbformat_minor": 4
}
