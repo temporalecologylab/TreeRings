{
 "cells": [
  {
   "cell_type": "code",
   "execution_count": 1,
   "metadata": {},
   "outputs": [],
   "source": [
    "from ashlar import filepattern, reg \n",
    "import os"
   ]
  },
  {
   "cell_type": "code",
   "execution_count": 5,
   "metadata": {},
   "outputs": [],
   "source": [
    "path = \"C:\\\\Users\\\\chloe\\\\wolkovich_s24\\\\TreeRings\\\\code\\\\tiff_test\"\n",
    "pattern = \"frame_{row:01}_{col:01}_1.tiff\" \n",
    "overlap = 0.20\n",
    "pixel_size = 1.55"
   ]
  },
  {
   "cell_type": "code",
   "execution_count": 6,
   "metadata": {},
   "outputs": [],
   "source": [
    "\n",
    "        # self.metadata = FilePatternMetadata(path, pattern, overlap, pixel_size) #dont need bc reader defines its own metadata object?\n",
    "reader = filepattern.FilePatternReader(path, pattern, overlap, pixel_size) #in ashlar/filepattern.py pix_sz =1??\n",
    "edge_aligner = reg.EdgeAligner(reader,verbose=True)\n",
    "layer_aligner = reg.LayerAligner(reader, edge_aligner) #idk what reference_aligner is?? --- update - its edge aligner in ashlar.py?\n",
    "mosaics = []\n",
    "\n",
    "mosaic_args['channels'] = range(3)\n",
    "mosaic_args['verbose'] = True"
   ]
  },
  {
   "cell_type": "code",
   "execution_count": 7,
   "metadata": {},
   "outputs": [
    {
     "name": "stdout",
     "output_type": "stream",
     "text": [
      "    assembling thumbnail 21/21\n",
      "    quantifying alignment error 1000/1000\n",
      "    aligning edge 20/20\n"
     ]
    },
    {
     "name": "stderr",
     "output_type": "stream",
     "text": [
      "C:\\Users\\chloe\\anaconda3\\envs\\ashlar\\lib\\site-packages\\ashlar\\reg.py:1367: DataWarning: Could not align enough edges, proceeding anyway with original stage positions.\n",
      "  warnings.warn(message, DataWarning)\n"
     ]
    }
   ],
   "source": [
    "edge_aligner.run()"
   ]
  },
  {
   "cell_type": "code",
   "execution_count": 8,
   "metadata": {},
   "outputs": [],
   "source": [
    "mosaics.append(reg.Mosaic(edge_aligner, edge_aligner.mosaic_shape, **mosaic_args))"
   ]
  },
  {
   "cell_type": "code",
   "execution_count": 9,
   "metadata": {},
   "outputs": [
    {
     "name": "stdout",
     "output_type": "stream",
     "text": [
      "    assembling thumbnail 21/21\n",
      "    estimated cycle offset [y x] = [0. 0.]\n"
     ]
    }
   ],
   "source": [
    "layer_aligner.run()\n",
    "mosaics.append(reg.Mosaic(layer_aligner, edge_aligner.mosaic_shape, **mosaic_args))"
   ]
  },
  {
   "cell_type": "code",
   "execution_count": 10,
   "metadata": {},
   "outputs": [
    {
     "name": "stdout",
     "output_type": "stream",
     "text": [
      "Cycle 0:\n",
      "    Channel 0:\n",
      "        merging tile 21/21\n",
      "    Channel 1:\n",
      "        merging tile 21/21\n",
      "    Channel 2:\n",
      "        merging tile 21/21\n",
      "Cycle 1:\n",
      "    Channel 0:\n",
      "        merging tile 21/21\n",
      "    Channel 1:\n",
      "        merging tile 21/21\n",
      "    Channel 2:\n",
      "        merging tile 21/21\n",
      "Generating pyramid\n",
      "    Level 1 (32640 x 1080)\n",
      "        processing channel 6/6\n",
      "    Level 2 (16320 x 540)\n",
      "        processing channel 6/6\n",
      "    Level 3 (8160 x 270)\n",
      "        processing channel 6/6\n",
      "    Level 4 (4080 x 135)\n",
      "        processing channel 6/6\n",
      "    Level 5 (2040 x 68)\n",
      "        processing channel 6/6\n",
      "    Level 6 (1020 x 34)\n",
      "        processing channel 6/6\n"
     ]
    }
   ],
   "source": [
    "writer_class = reg.PyramidWriter\n",
    "writer = writer_class(mosaics, \"out_tiff.ome.tiff\", **mosaic_args)\n",
    "writer.run()"
   ]
  },
  {
   "cell_type": "code",
   "execution_count": null,
   "metadata": {},
   "outputs": [],
   "source": []
  }
 ],
 "metadata": {
  "kernelspec": {
   "display_name": "Python 3 (ipykernel)",
   "language": "python",
   "name": "python3"
  },
  "language_info": {
   "codemirror_mode": {
    "name": "ipython",
    "version": 3
   },
   "file_extension": ".py",
   "mimetype": "text/x-python",
   "name": "python",
   "nbconvert_exporter": "python",
   "pygments_lexer": "ipython3",
   "version": "3.10.14"
  }
 },
 "nbformat": 4,
 "nbformat_minor": 4
}
