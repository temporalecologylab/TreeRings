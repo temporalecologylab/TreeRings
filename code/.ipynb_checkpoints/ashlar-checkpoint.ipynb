{
 "cells": [
  {
   "cell_type": "code",
   "execution_count": 40,
   "metadata": {},
   "outputs": [],
   "source": [
    "from ashlar import filepattern, reg \n",
    "import os"
   ]
  },
  {
   "cell_type": "code",
   "execution_count": 41,
   "metadata": {},
   "outputs": [],
   "source": [
    "path = \"C:\\\\Users\\\\chloe\\\\wolkovich_s24\\\\TreeRings\\\\code\\\\focus_testng\\\\different_cookie\"\n",
    "pattern = \"focused_{row:01}_{col:01}.tiff\" \n",
    "overlap = 0.20\n",
    "pixel_size = 0.78"
   ]
  },
  {
   "cell_type": "code",
   "execution_count": 42,
   "metadata": {},
   "outputs": [],
   "source": [
    "\n",
    "        # self.metadata = FilePatternMetadata(path, pattern, overlap, pixel_size) #dont need bc reader defines its own metadata object?\n",
    "reader = filepattern.FilePatternReader(path, pattern, overlap, pixel_size) #in ashlar/filepattern.py pix_sz =1??\n",
    "edge_aligner = reg.EdgeAligner(reader,filter_sigma=9, max_shift=2000, max_error=3, verbose=True)\n",
    "mosaics = []\n",
    "mosaic_args = {}\n",
    "mosaic_args['verbose'] = True"
   ]
  },
  {
   "cell_type": "code",
   "execution_count": null,
   "metadata": {},
   "outputs": [
    {
     "name": "stdout",
     "output_type": "stream",
     "text": [
      "    assembling thumbnail 240/240\n",
      "    using explicit error threshold\n",
      "    aligning edge 1/657"
     ]
    },
    {
     "name": "stderr",
     "output_type": "stream",
     "text": [
      "C:\\Users\\chloe\\anaconda3\\envs\\ashlar\\lib\\site-packages\\ashlar\\reg.py:1367: DataWarning: Some neighboring tiles have zero overlap.\n",
      "  warnings.warn(message, DataWarning)\n"
     ]
    },
    {
     "name": "stdout",
     "output_type": "stream",
     "text": [
      "    aligning edge 253/657"
     ]
    }
   ],
   "source": [
    "edge_aligner.run()"
   ]
  },
  {
   "cell_type": "code",
   "execution_count": null,
   "metadata": {},
   "outputs": [],
   "source": [
    "mosaics.append(reg.Mosaic(edge_aligner, edge_aligner.mosaic_shape, **mosaic_args))"
   ]
  },
  {
   "cell_type": "code",
   "execution_count": null,
   "metadata": {},
   "outputs": [],
   "source": [
    "writer_class = reg.PyramidWriter\n",
    "writer = writer_class(mosaics, \"out_m2000_err3.ome.tiff\", verbose=True)\n",
    "writer.run()"
   ]
  },
  {
   "cell_type": "code",
   "execution_count": null,
   "metadata": {},
   "outputs": [],
   "source": [
    "from ashlar import filepattern, thumbnail, reg\n",
    "import matplotlib.pyplot as plt\n",
    "from ashlar.scripts.ashlar import process_axis_flip\n",
    "import seaborn as sns"
   ]
  },
  {
   "cell_type": "code",
   "execution_count": null,
   "metadata": {},
   "outputs": [],
   "source": [
    "sns.set_theme(rc={'figure.figsize':(15,12)})\n",
    "edge_qual = reg.plot_edge_quality(edge_aligner, img=edge_aligner.reader.thumbnail)\n",
    "#plt.gca().subtitle('c1e')\n",
    "\n",
    "edge_qual.savefig(\"edge_quality.png\")\n",
    "\n",
    "# c1e_m = reg.EdgeAligner(c1r, filter_sigma=1, max_shift=30, verbose=True)\n",
    "# c1e_m.run()\n",
    "# reg.plot_edge_quality(c1e_m, img=c1e_m.reader.thumbnail)\n",
    "# #plt.gca().subtitle('c1e_m')\n",
    "\n",
    "# plot_edge_scatter function requires seaborn\n",
    "edge_scatter = reg.plot_edge_scatter(edge_aligner)\n",
    "#plt.gca().subtitle('c1e')\n",
    "edge_scatter.savefig(\"edge_scatter.png\")\n",
    "# reg.plot_edge_scatter(c1e_m)\n",
    "# #plt.gca().subtitle('c1e_m')"
   ]
  },
  {
   "cell_type": "code",
   "execution_count": null,
   "metadata": {},
   "outputs": [],
   "source": []
  }
 ],
 "metadata": {
  "kernelspec": {
   "display_name": "Python 3 (ipykernel)",
   "language": "python",
   "name": "python3"
  },
  "language_info": {
   "codemirror_mode": {
    "name": "ipython",
    "version": 3
   },
   "file_extension": ".py",
   "mimetype": "text/x-python",
   "name": "python",
   "nbconvert_exporter": "python",
   "pygments_lexer": "ipython3",
   "version": "3.10.14"
  }
 },
 "nbformat": 4,
 "nbformat_minor": 4
}
